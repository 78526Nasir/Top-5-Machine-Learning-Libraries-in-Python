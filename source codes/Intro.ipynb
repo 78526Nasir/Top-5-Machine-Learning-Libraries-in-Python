{
 "cells": [
  {
   "cell_type": "markdown",
   "metadata": {},
   "source": [
    "# Top 5 Machine Learning Libraries in Python"
   ]
  },
  {
   "attachments": {},
   "cell_type": "markdown",
   "metadata": {},
   "source": [
    "![intro_image](https://images.unsplash.com/photo-1538619727653-f7707682faf9?ixlib=rb-0.3.5&ixid=eyJhcHBfaWQiOjEyMDd9&s=006c70ed2464cc33da83e0c7ba59eed4&auto=format&fit=crop&w=1500&q=80)"
   ]
  },
  {
   "cell_type": "markdown",
   "metadata": {},
   "source": [
    "#### So, here's what we are going to learn:\n",
    "* [Numpy](http://www.numpy.org/)\n",
    "* [Pandas](https://pandas.pydata.org/)\n",
    "* [SciKit-Learn](https://scikit-learn.org/stable/)\n",
    "* [Matplotlib](https://matplotlib.org/)\n",
    "* [NLTK](https://www.nltk.org/)"
   ]
  }
 ],
 "metadata": {
  "kernelspec": {
   "display_name": "Python 3",
   "language": "python",
   "name": "python3"
  },
  "language_info": {
   "codemirror_mode": {
    "name": "ipython",
    "version": 3
   },
   "file_extension": ".py",
   "mimetype": "text/x-python",
   "name": "python",
   "nbconvert_exporter": "python",
   "pygments_lexer": "ipython3",
   "version": "3.6.5"
  }
 },
 "nbformat": 4,
 "nbformat_minor": 2
}
